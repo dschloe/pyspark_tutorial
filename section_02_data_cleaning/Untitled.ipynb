{
 "cells": [
  {
   "cell_type": "markdown",
   "id": "f4a4f801-acfd-400b-9ea0-9a933bc0c228",
   "metadata": {},
   "source": [
    "# Filtering Column Content with Python\n",
    "- 데이터를 불러온다. "
   ]
  },
  {
   "cell_type": "code",
   "execution_count": null,
   "id": "9c967c93-76a8-441c-b6ae-9abaf4f05e5c",
   "metadata": {},
   "outputs": [],
   "source": []
  }
 ],
 "metadata": {
  "kernelspec": {
   "display_name": "Python 3 (ipykernel)",
   "language": "python",
   "name": "python3"
  },
  "language_info": {
   "codemirror_mode": {
    "name": "ipython",
    "version": 3
   },
   "file_extension": ".py",
   "mimetype": "text/x-python",
   "name": "python",
   "nbconvert_exporter": "python",
   "pygments_lexer": "ipython3",
   "version": "3.8.0"
  }
 },
 "nbformat": 4,
 "nbformat_minor": 5
}
