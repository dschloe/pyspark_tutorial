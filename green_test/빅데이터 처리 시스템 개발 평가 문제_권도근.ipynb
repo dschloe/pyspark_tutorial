{
 "cells": [
  {
   "cell_type": "markdown",
   "id": "03d3005c-113c-4495-8a40-f38944c63ca8",
   "metadata": {},
   "source": [
    "평가 개요\n",
    "- 교과목: 빅데이터 시스템 개발\n",
    "- 능력단위: 빅데이터 처리시스템 개발\n",
    "- 훈련교사명: 정지훈 강사\n",
    "- 수강생명: 권도근\n",
    "- 평가방법: 기타(작업형)\n",
    "- 평가예정일: 2022년 02월 14일 월요일 (1시간)"
   ]
  },
  {
   "cell_type": "markdown",
   "id": "8065f227-6fc1-4a87-9edf-d19aca33f481",
   "metadata": {},
   "source": [
    "평가 문항\n",
    "- 두개의 데이터 파일을 불러와서 각 영화별 얼마나 자주 방영되었는지 숫자를 세는 코드를 작성하세요. \n",
    "    + 단, PySpark 문법으로 파일을 작성합니다. "
   ]
  },
  {
   "cell_type": "code",
   "execution_count": 1,
   "id": "c3ae1ce5-3af3-461a-b20e-2767fb5019c9",
   "metadata": {},
   "outputs": [
    {
     "name": "stdout",
     "output_type": "stream",
     "text": [
      "+-------+-----+--------------------------------+-------+\n",
      "|movieID|count|movieTitle                      |Creator|\n",
      "+-------+-----+--------------------------------+-------+\n",
      "|50     |583  |Star Wars (1977)                |권도근 |\n",
      "|258    |509  |Contact (1997)                  |권도근 |\n",
      "|100    |508  |Fargo (1996)                    |권도근 |\n",
      "|181    |507  |Return of the Jedi (1983)       |권도근 |\n",
      "|294    |485  |Liar Liar (1997)                |권도근 |\n",
      "|286    |481  |English Patient, The (1996)     |권도근 |\n",
      "|288    |478  |Scream (1996)                   |권도근 |\n",
      "|1      |452  |Toy Story (1995)                |권도근 |\n",
      "|300    |431  |Air Force One (1997)            |권도근 |\n",
      "|121    |429  |Independence Day (ID4) (1996)   |권도근 |\n",
      "|174    |420  |Raiders of the Lost Ark (1981)  |권도근 |\n",
      "|127    |413  |Godfather, The (1972)           |권도근 |\n",
      "|56     |394  |Pulp Fiction (1994)             |권도근 |\n",
      "|7      |392  |Twelve Monkeys (1995)           |권도근 |\n",
      "|98     |390  |Silence of the Lambs, The (1991)|권도근 |\n",
      "|237    |384  |Jerry Maguire (1996)            |권도근 |\n",
      "|117    |378  |Rock, The (1996)                |권도근 |\n",
      "|172    |367  |Empire Strikes Back, The (1980) |권도근 |\n",
      "|222    |365  |Star Trek: First Contact (1996) |권도근 |\n",
      "|204    |350  |Back to the Future (1985)       |권도근 |\n",
      "+-------+-----+--------------------------------+-------+\n",
      "only showing top 20 rows\n",
      "\n"
     ]
    }
   ],
   "source": [
    "# (1) 필수 라이브러리 설치\n",
    "from pyspark.sql import SparkSession\n",
    "from pyspark.sql import functions as func\n",
    "from pyspark.sql.types import StructType, StructField, IntegerType, LongType\n",
    "import codecs\n",
    "# (2) u.item 함수 정의 만들기\n",
    "def loadNames():\n",
    "    Names = {}\n",
    "# (3) 데이터 불러오는 코드 작성\n",
    "    with codecs.open(\"u.item\", \"r\",\n",
    "                     encoding='ISO-8859-1',\n",
    "# (4) 정확한 인코딩 표기 작성\n",
    "                     errors='ignore') as f:\n",
    "        for line in f:\n",
    "            fields = line.split('|')\n",
    "            Names[int(fields[0])] = fields[1]\n",
    "    return Names\n",
    "def main():\n",
    "    # (5) spark 세션 할당\n",
    "    spark = SparkSession.builder.appName(\"PopularMovies\").getOrCreate()\n",
    "    nameDict = spark.sparkContext.broadcast(loadNames())\n",
    "    # (6) u.logs 파일에 대한 스키마 작성\n",
    "    schema = StructType([ \\\n",
    "                         StructField(\"userID\", IntegerType(), True), \\\n",
    "                         StructField(\"movieID\", IntegerType(), True), \\\n",
    "                         StructField(\"rating\", IntegerType(), True), \\\n",
    "                         StructField(\"time\", LongType(), True)])\n",
    "    # (7) log파일을 데이터 프레임 형태로 불러오기\n",
    "    moviesDF = spark.read.option(\"sep\", \"\\t\").schema(schema).csv(\"u.logs\")\n",
    "    movieCounts = moviesDF.groupBy(\"movieID\").count()\n",
    "    def lookupName(movieID):\n",
    "        return nameDict.value[movieID]\n",
    "    lookupNameUDF = func.udf(lookupName)\n",
    "    # (8) movieTitle 컬럼 추가\n",
    "    moviesWithNames = movieCounts.withColumn(\"movieTitle\", lookupNameUDF(func.col(\"movieID\")))\n",
    "    # (9) 결과 정렬 및 상위 20개 추출\n",
    "    sortedMoviesWithNames = moviesWithNames.orderBy(func.desc(\"count\"))\n",
    "    sortedMoviesWithNames.withColumn(\"Creator\", func.lit(\"권도근\")).show(20, False)\n",
    "    # 세션 종료\n",
    "    spark.stop()\n",
    "if __name__ == \"__main__\":\n",
    "    main()"
   ]
  }
 ],
 "metadata": {
  "kernelspec": {
   "display_name": "Python 3",
   "language": "python",
   "name": "python3"
  },
  "language_info": {
   "codemirror_mode": {
    "name": "ipython",
    "version": 3
   },
   "file_extension": ".py",
   "mimetype": "text/x-python",
   "name": "python",
   "nbconvert_exporter": "python",
   "pygments_lexer": "ipython3",
   "version": "3.8.8"
  }
 },
 "nbformat": 4,
 "nbformat_minor": 5
}
